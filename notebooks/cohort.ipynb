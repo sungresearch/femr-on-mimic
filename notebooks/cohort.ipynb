{
 "cells": [
  {
   "cell_type": "code",
   "execution_count": 1,
   "id": "f30b3ca2-fb51-4e92-8739-849f06f4e128",
   "metadata": {},
   "outputs": [],
   "source": [
    "import os\n",
    "import pandas as pd\n",
    "\n",
    "from src.utils import list_dir\n",
    "from src.default_paths import path_root"
   ]
  },
  {
   "cell_type": "code",
   "execution_count": 2,
   "id": "7b7a4d87-3a16-4d16-be65-9812e1fa935b",
   "metadata": {},
   "outputs": [],
   "source": [
    "path = os.path.join(path_root, \"data\")\n",
    "path_labels = os.path.join(path, \"labels\")"
   ]
  },
  {
   "cell_type": "code",
   "execution_count": 3,
   "id": "3e8b4ca8",
   "metadata": {},
   "outputs": [],
   "source": [
    "df_cohort = pd.read_csv(os.path.join(path, \"cohort/ip_cohort/cohort.csv\"))\n",
    "df_cohort = df_cohort.query(\"discharge_datetime > index_datetime\")"
   ]
  },
  {
   "cell_type": "code",
   "execution_count": 4,
   "id": "63ca2949",
   "metadata": {},
   "outputs": [
    {
     "data": {
      "text/plain": [
       "44055"
      ]
     },
     "execution_count": 4,
     "metadata": {},
     "output_type": "execute_result"
    }
   ],
   "source": [
    "df_cohort.shape[0]"
   ]
  },
  {
   "cell_type": "code",
   "execution_count": 5,
   "id": "a332d67e",
   "metadata": {},
   "outputs": [
    {
     "name": "stdout",
     "output_type": "stream",
     "text": [
      "Sex: {'F': 26726, 'M': 17329}\n"
     ]
    }
   ],
   "source": [
    "sex_counts = df_cohort[\"sex\"].value_counts().to_dict()\n",
    "print(f\"Sex: {sex_counts}\")"
   ]
  },
  {
   "cell_type": "code",
   "execution_count": 6,
   "id": "76af24b2",
   "metadata": {},
   "outputs": [
    {
     "data": {
      "text/plain": [
       "{'F': 60.7, 'M': 39.3}"
      ]
     },
     "execution_count": 6,
     "metadata": {},
     "output_type": "execute_result"
    }
   ],
   "source": [
    "{k:round(v/df_cohort.shape[0]*100,1) for k,v in sex_counts.items()}"
   ]
  },
  {
   "cell_type": "code",
   "execution_count": 7,
   "id": "bfbb46d8-9f41-48c6-93e4-fe5a9786fc31",
   "metadata": {},
   "outputs": [
    {
     "name": "stdout",
     "output_type": "stream",
     "text": [
      "anemia_lab_sql: num_patients=43682, num_pos=2954 (6.8%), num_measurements=36381, 0.833, IQR=array([ 84., 104., 121.])\n",
      "hyperkalemia_lab_sql: num_patients=43891, num_pos=375 (0.9%), num_measurements=29843, 0.68, IQR=array([4.2, 4.5, 5. ])\n",
      "hypoglycemia_lab_sql: num_patients=43983, num_pos=719 (1.6%), num_measurements=29695, 0.675, IQR=array([4.5, 5.1, 5.8])\n",
      "hyponatremia_lab_sql: num_patients=43950, num_pos=385 (0.9%), num_measurements=29727, 0.676, IQR=array([133., 136., 139.])\n",
      "long_los_sql: num_patients=44055, num_pos=12215 (27.7%), num_measurements='N/A', N/A, IQR='N/A'\n",
      "mortality_sql: num_patients=44055, num_pos=1599 (3.6%), num_measurements='N/A', N/A, IQR='N/A'\n",
      "readmission_sql: num_patients=44042, num_pos=259 (0.6%), num_measurements='N/A', N/A, IQR='N/A'\n",
      "thrombocytopenia_lab_sql: num_patients=43912, num_pos=1342 (3.1%), num_measurements=36789, 0.838, IQR=array([135., 189., 245.])\n"
     ]
    }
   ],
   "source": [
    "labels = list_dir(path_labels)\n",
    "labels.sort()\n",
    "\n",
    "for label in labels:\n",
    "    try:\n",
    "        df = (\n",
    "            pd.read_csv(os.path.join(path_labels, label, \"labeled_patients.csv\"))\n",
    "        )\n",
    "        \n",
    "        num_patients = df.shape[0]\n",
    "        num_pos = df.value.sum()\n",
    "        perc_pos = round(num_pos/num_patients*100,1)\n",
    "        \n",
    "        if \"min_max_value\" in df.columns:\n",
    "            IQR = df[\"min_max_value\"].quantile([0.25, 0.5, 0.75]).values.round(1)\n",
    "            num_measurements = (~df[\"min_max_value\"].isnull()).sum()\n",
    "            perc_measurements = round(num_measurements/num_patients, 3)\n",
    "        else:\n",
    "            IQR = \"N/A\"\n",
    "            num_measurements = \"N/A\"\n",
    "            perc_measurements = \"N/A\"\n",
    "\n",
    "        print(f\"{label}: {num_patients=}, {num_pos=} ({perc_pos}%), {num_measurements=}, {perc_measurements}, {IQR=}\")\n",
    "        \n",
    "    except:\n",
    "        continue\n",
    "        \n",
    "    "
   ]
  },
  {
   "cell_type": "code",
   "execution_count": 23,
   "id": "393c6737",
   "metadata": {},
   "outputs": [],
   "source": [
    "import dask.dataframe as dd\n",
    "\n",
    "person = dd.read_parquet(\"/hpf/projects/lsung/phi/data/mimic_omop_parquet/person\")[\n",
    "    [\"person_id\", \"year_of_birth\", \"race_concept_id\"]\n",
    "].compute()\n",
    "\n",
    "concept=dd.read_parquet(\"/hpf/projects/lsung/phi/data/mimic_omop_parquet/concept\")[\n",
    "    [\"concept_id\", \"concept_name\"]\n",
    "].compute()"
   ]
  },
  {
   "cell_type": "code",
   "execution_count": 24,
   "id": "4e605b90",
   "metadata": {},
   "outputs": [],
   "source": [
    "person = person.merge(\n",
    "    concept,\n",
    "    how = \"left\",\n",
    "    left_on = \"race_concept_id\",\n",
    "    right_on = \"concept_id\"\n",
    ").rename(columns={\"concept_name\": \"race\"})"
   ]
  },
  {
   "cell_type": "code",
   "execution_count": 26,
   "id": "4ba7cca6-1a10-47b2-a980-25d2256796cc",
   "metadata": {},
   "outputs": [],
   "source": [
    "df_cohort_m = df_cohort.merge(\n",
    "    person[[\"person_id\", \"year_of_birth\", \"race\"]],\n",
    "    left_on=\"person_id\",\n",
    "    right_on=\"person_id\"\n",
    ")"
   ]
  },
  {
   "cell_type": "code",
   "execution_count": 27,
   "id": "6cba7d49",
   "metadata": {},
   "outputs": [],
   "source": [
    "p1, p2, p3 = (pd.to_datetime(df_cohort_m[\"index_datetime\"]).dt.year - df_cohort_m[\"year_of_birth\"]).quantile([0.25, 0.5, 0.75])"
   ]
  },
  {
   "cell_type": "code",
   "execution_count": 28,
   "id": "eb351e31",
   "metadata": {},
   "outputs": [
    {
     "name": "stdout",
     "output_type": "stream",
     "text": [
      "35.0 56.0 71.0\n"
     ]
    }
   ],
   "source": [
    "print(p1, p2, p3)"
   ]
  },
  {
   "cell_type": "code",
   "execution_count": 29,
   "id": "c5aeaf5f",
   "metadata": {},
   "outputs": [
    {
     "data": {
      "text/plain": [
       "race\n",
       "White                               27402\n",
       "Black or African American            5338\n",
       "UNKNOWN                              3658\n",
       "OTHER                                2630\n",
       "No matching concept                  2328\n",
       "Asian                                1799\n",
       "UNABLE TO OBTAIN                      792\n",
       "American Indian or Alaska Native      108\n",
       "Name: count, dtype: int64"
      ]
     },
     "execution_count": 29,
     "metadata": {},
     "output_type": "execute_result"
    }
   ],
   "source": [
    "df_cohort_m[\"race\"].value_counts()"
   ]
  },
  {
   "cell_type": "code",
   "execution_count": null,
   "id": "6e0894ab",
   "metadata": {},
   "outputs": [],
   "source": []
  }
 ],
 "metadata": {
  "kernelspec": {
   "display_name": "Python 3 (ipykernel)",
   "language": "python",
   "name": "python3"
  },
  "language_info": {
   "codemirror_mode": {
    "name": "ipython",
    "version": 3
   },
   "file_extension": ".py",
   "mimetype": "text/x-python",
   "name": "python",
   "nbconvert_exporter": "python",
   "pygments_lexer": "ipython3",
   "version": "3.10.12"
  }
 },
 "nbformat": 4,
 "nbformat_minor": 5
}
