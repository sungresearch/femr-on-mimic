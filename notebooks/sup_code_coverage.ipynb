{
 "cells": [
  {
   "cell_type": "code",
   "execution_count": 1,
   "metadata": {},
   "outputs": [],
   "source": [
    "import os\n",
    "import pandas as pd \n",
    "import numpy as np \n",
    "\n",
    "from typing import Dict, List\n",
    "\n",
    "from femr.models.dataloader import BatchLoader\n",
    "from femr.datasets import PatientDatabase\n",
    "\n",
    "from src.default_paths import path_root, path_extract\n",
    "from src.utils import get_best_clmbr_model \n",
    "from src.io import read_msgpack \n",
    "\n",
    "import matplotlib.pyplot as plt\n",
    "import seaborn as sns\n",
    "from matplotlib.patches import Rectangle"
   ]
  },
  {
   "cell_type": "code",
   "execution_count": 2,
   "metadata": {},
   "outputs": [],
   "source": [
    "path_save = os.path.join(path_root, \"results/figures/supplementary/\")\n",
    "os.makedirs(path_save, exist_ok=True)"
   ]
  },
  {
   "cell_type": "markdown",
   "metadata": {},
   "source": [
    "### PART 1. Code Coverage\n",
    "To calculate code coverage stratified by code type (code only, numeric, categorical), we are iterating overing each patient timeline to obtain the number of coded events covered / not covered by the mimic / Stanford CLMBR dictionary. \n",
    "\n",
    "We are going to use the `BatchLoader` class from FEMR to do this. For each `batch`, `batch[\"transformer\"][\"tokens\"]` is an array of `int` that contains indices of all coded events in the CLMBR dictionary. `batch[\"transformer\"][\"valid_tokens\"]` is an array of `bool` that specifies whether each coded event can be indexed, i.e., whether the coded event can be indexed to an item in the dictionary.\n",
    "\n",
    "Code type is stored in the dictionary item as `item[\"type\"]`, where type 0 is `code only`, 1 is `numerics`, and 2 is `categorical`. "
   ]
  },
  {
   "cell_type": "code",
   "execution_count": 3,
   "metadata": {},
   "outputs": [],
   "source": [
    "mimic_model_path = get_best_clmbr_model(os.path.join(path_root, \"data/clmbr_models/clmbr_mimic\"))\n",
    "mimic_info_path = os.path.join(\n",
    "    path_root, \"data/clmbr_models/clmbr_mimic\", \n",
    "    mimic_model_path, \n",
    "    \"clmbr_batches/batch_info.msgpack\"\n",
    ")\n",
    "\n",
    "stanford_model_path = get_best_clmbr_model(os.path.join(path_root, \"data/clmbr_models/clmbr_stanford_cp\"))\n",
    "stanford_info_path = os.path.join(\n",
    "    path_root, \n",
    "    \"data/clmbr_models/clmbr_stanford_cp\", \n",
    "    stanford_model_path, \n",
    "    \"clmbr_batches/batch_info.msgpack\"\n",
    ")\n",
    "\n",
    "mimic_dict_path = os.path.join(path_root, \"data/clmbr_models/clmbr_mimic\", mimic_model_path, \"dictionary\")\n",
    "stanford_dict_path = os.path.join(path_root, \"data/clmbr_models/clmbr_stanford_cp\", stanford_model_path, \"dictionary\")\n",
    "\n",
    "model_paths = {\n",
    "    \"clmbr_mimic\": {\n",
    "        \"batch_info_path\": mimic_info_path,\n",
    "        \"dictionary_path\": mimic_dict_path,\n",
    "    },\n",
    "    \"clmbr\": {\n",
    "        \"batch_info_path\": stanford_info_path,\n",
    "        \"dictionary_path\": stanford_dict_path,\n",
    "    },\n",
    "}"
   ]
  },
  {
   "cell_type": "markdown",
   "metadata": {},
   "source": [
    "#### Count of patients and coded event coverage in batches stratified by code type"
   ]
  },
  {
   "cell_type": "code",
   "execution_count": 4,
   "metadata": {},
   "outputs": [],
   "source": [
    "def get_coverage_by_type(\n",
    "    clmbr_dict: List[Dict],\n",
    "    token_indices: np.ndarray[int],\n",
    "    valid_tokens: np.ndarray[bool], \n",
    "    token_type: int,\n",
    "):\n",
    "\n",
    "    tokens = [clmbr_dict[x] for x in token_indices]\n",
    "    valid_tokens = [clmbr_dict[x] for x in token_indices[valid_tokens]]\n",
    "\n",
    "    num_total, num_covered = 0, 0\n",
    "    \n",
    "    for token in tokens:\n",
    "        if token[\"type\"] == token_type:\n",
    "            num_total += 1\n",
    "\n",
    "    for token in valid_tokens:\n",
    "        if token[\"type\"] == token_type:\n",
    "            num_covered += 1\n",
    "\n",
    "    return num_total, num_covered\n"
   ]
  },
  {
   "cell_type": "code",
   "execution_count": 5,
   "metadata": {},
   "outputs": [
    {
     "name": "stdout",
     "output_type": "stream",
     "text": [
      "When mapping codes, dropped 0 out of 32768\n",
      "When mapping codes, dropped 36666 out of 65536\n"
     ]
    }
   ],
   "source": [
    "df = pd.DataFrame()\n",
    "\n",
    "for model, paths in model_paths.items():\n",
    "    clmbr_dict = read_msgpack(paths[\"dictionary_path\"])[\"regular\"]\n",
    "\n",
    "    total_codes, total_codes_covered = 0, 0\n",
    "    total_codes_0, total_codes_0_covered = 0, 0\n",
    "    total_codes_1, total_codes_1_covered = 0, 0\n",
    "    total_codes_2, total_codes_2_covered = 0, 0\n",
    "    total_patients, total_indices = 0, 0\n",
    "\n",
    "    loader = BatchLoader(path_extract, paths[\"batch_info_path\"])\n",
    "    for dataset in [\"train\", \"dev\", \"test\"]:\n",
    "        for i in range(loader.get_number_of_batches(dataset)):\n",
    "            batch = loader.get_batch(dataset, i)\n",
    "            total_codes += len(batch[\"transformer\"][\"tokens\"])\n",
    "            total_codes_covered += sum(batch[\"transformer\"][\"valid_tokens\"])\n",
    "            total_indices += batch[\"num_indices\"]\n",
    "            total_patients += batch[\"num_patients\"]\n",
    "\n",
    "            num_codes_0, num_codes_0_covered = get_coverage_by_type(\n",
    "                clmbr_dict, \n",
    "                batch[\"transformer\"][\"tokens\"], \n",
    "                batch[\"transformer\"][\"valid_tokens\"], \n",
    "                0\n",
    "            )\n",
    "            total_codes_0 += num_codes_0 \n",
    "            total_codes_0_covered += num_codes_0_covered\n",
    "\n",
    "            num_codes_1, num_codes_1_covered = get_coverage_by_type(\n",
    "                clmbr_dict, \n",
    "                batch[\"transformer\"][\"tokens\"], \n",
    "                batch[\"transformer\"][\"valid_tokens\"], \n",
    "                1\n",
    "            )\n",
    "            total_codes_1 += num_codes_1 \n",
    "            total_codes_1_covered += num_codes_1_covered    \n",
    "\n",
    "            num_codes_2, num_codes_2_covered = get_coverage_by_type(\n",
    "                clmbr_dict, \n",
    "                batch[\"transformer\"][\"tokens\"], \n",
    "                batch[\"transformer\"][\"valid_tokens\"], \n",
    "                2\n",
    "            )\n",
    "            total_codes_2 += num_codes_2 \n",
    "            total_codes_2_covered += num_codes_2_covered \n",
    "\n",
    "    df = pd.concat((\n",
    "        df,\n",
    "        pd.DataFrame({\n",
    "            \"model\": [model],\n",
    "            \"total_patients\": total_patients,\n",
    "            \"total_indices\": total_indices,\n",
    "            \"total_codes\": total_codes,\n",
    "            \"total_codes_covered\": total_codes_covered,\n",
    "            \"total_codes_only\": total_codes_0,\n",
    "            \"total_codes_only_covered\": total_codes_0_covered, \n",
    "            \"total_numerics\": total_codes_1,\n",
    "            \"total_numerics_covered\": total_codes_1_covered,\n",
    "            \"total_categoricals\": total_codes_2,\n",
    "            \"total_categoricals_covered\": total_codes_2_covered,\n",
    "        })\n",
    "    ))"
   ]
  },
  {
   "cell_type": "code",
   "execution_count": 8,
   "metadata": {},
   "outputs": [
    {
     "data": {
      "text/plain": [
       "0.30866751184359775"
      ]
     },
     "execution_count": 8,
     "metadata": {},
     "output_type": "execute_result"
    }
   ],
   "source": [
    "1-(169754624/245547008)"
   ]
  },
  {
   "cell_type": "code",
   "execution_count": 8,
   "metadata": {},
   "outputs": [
    {
     "name": "stdout",
     "output_type": "stream",
     "text": [
      "{'total_codes_only_lost': 0.372, 'total_numerics_lost': 0.233, 'total_categoricals_lost': 0.91}\n"
     ]
    },
    {
     "data": {
      "image/png": "[encoded data removed]",
      "text/plain": [
       "<Figure size 640x480 with 1 Axes>"
      ]
     },
     "metadata": {},
     "output_type": "display_data"
    }
   ],
   "source": [
    "data = df[[\"model\", \"total_codes_only_covered\", \"total_numerics_covered\", \"total_categoricals_covered\"]]\n",
    "data = data.melt(id_vars=\"model\")\n",
    "\n",
    "# calculate lost information\n",
    "clmbr_values = (\n",
    "    data.query(\"model=='clmbr'\")[[\"variable\",\"value\"]]\n",
    "    .set_index(\"variable\")\n",
    "    .to_dict()\n",
    "    [\"value\"]\n",
    ")\n",
    "\n",
    "clmbr_sk_values = (\n",
    "    data.query(\"model=='clmbr_mimic'\")\n",
    "    [[\"variable\",\"value\"]]\n",
    "    .set_index(\"variable\")\n",
    "    .to_dict()\n",
    "    [\"value\"]\n",
    ")\n",
    "\n",
    "info_loss = {x.replace(\"covered\",\"lost\"):round(1-clmbr_values[x]/clmbr_sk_values[x],3) for x in clmbr_values}\n",
    "\n",
    "print(info_loss)\n",
    "\n",
    "data = data.replace({\n",
    "    \"clmbr\": \"Processed by CLMBR\",\n",
    "    \"clmbr_mimic\": \"Processed by CLMBR_MIMIC\",\n",
    "    \"total_codes_only_covered\": \"Codes\\nOnly\",\n",
    "    \"total_numerics_covered\": \"Numerical\\nValues\",\n",
    "    \"total_categoricals_covered\": \"Categorical\\nValues\"\n",
    "})\n",
    "\n",
    "ax = sns.barplot(\n",
    "    data = data,\n",
    "    x = \"variable\",\n",
    "    y = \"value\", \n",
    "    hue = \"model\", \n",
    "    palette = {\n",
    "        \"Processed by CLMBR_MIMIC\": 'dodgerblue', \n",
    "        \"Processed by CLMBR\": 'crimson',\n",
    "    }\n",
    ")\n",
    "\n",
    "ax.set_xlabel(\"Coded Event Type\")\n",
    "ax.set_ylabel(\"Number of Coded Events\")\n",
    "ax.legend_.set_title(None)\n",
    "\n",
    "plt.grid(axis=\"y\", alpha=0.3)\n",
    "\n",
    "plt.savefig(\n",
    "    os.path.join(path_save, \"code_coverage.png\"), \n",
    "    dpi=300, bbox_inches='tight', pad_inches=0.2\n",
    ")\n",
    "\n",
    "plt.show()"
   ]
  },
  {
   "cell_type": "code",
   "execution_count": null,
   "metadata": {},
   "outputs": [],
   "source": []
  }
 ],
 "metadata": {
  "kernelspec": {
   "display_name": "Python 3",
   "language": "python",
   "name": "python3"
  },
  "language_info": {
   "codemirror_mode": {
    "name": "ipython",
    "version": 3
   },
   "file_extension": ".py",
   "mimetype": "text/x-python",
   "name": "python",
   "nbconvert_exporter": "python",
   "pygments_lexer": "ipython3",
   "version": "3.10.12"
  },
  "orig_nbformat": 4
 },
 "nbformat": 4,
 "nbformat_minor": 2
}
